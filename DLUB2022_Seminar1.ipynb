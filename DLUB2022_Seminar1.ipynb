{
  "nbformat": 4,
  "nbformat_minor": 0,
  "metadata": {
    "colab": {
      "name": "DLUB2022 Seminar1.ipynb",
      "provenance": [],
      "collapsed_sections": [],
      "authorship_tag": "ABX9TyOfGX4iY7M/G/UhLAgs5cHM",
      "include_colab_link": true
    },
    "kernelspec": {
      "name": "python3",
      "display_name": "Python 3"
    },
    "language_info": {
      "name": "python"
    }
  },
  "cells": [
    {
      "cell_type": "markdown",
      "metadata": {
        "id": "view-in-github",
        "colab_type": "text"
      },
      "source": [
        "<a href=\"https://colab.research.google.com/github/dl-ub-summer-school/2022/blob/master/DLUB2022_Seminar1.ipynb\" target=\"_parent\"><img src=\"https://colab.research.google.com/assets/colab-badge.svg\" alt=\"Open In Colab\"/></a>"
      ]
    },
    {
      "cell_type": "markdown",
      "source": [
        "# PyTorch Basics\n",
        "==============================================================="
      ],
      "metadata": {
        "id": "OooWoX2PhkB0"
      }
    },
    {
      "cell_type": "markdown",
      "source": [
        "<img src=\"https://miro.medium.com/max/1200/1*bBS_lYMoWhiyJf733Bghwg.jpeg\" width=\"300\">\n",
        "\n",
        "PyTorch is an open source machine learning framework based on the Torch library,used for applications such as computer vision and natural language processing,primarily developed by Meta AI."
      ],
      "metadata": {
        "id": "aX7HDSeYhgGA"
      }
    },
    {
      "cell_type": "markdown",
      "source": [
        "<img src=\"https://miro.medium.com/max/1400/1*IsaBkifkc5P7ihRA8IKQ8Q.png\" width=\"800\">"
      ],
      "metadata": {
        "id": "iM4NLsTihtnf"
      }
    },
    {
      "cell_type": "markdown",
      "source": [
        "### Agenda\n",
        "\n",
        "1. PyTorch vs TensorFlow\n",
        "2. Dynamic Computational Graph\n",
        "3. PyTorch: Tensors and Autograd\n",
        "4. Build Model: Pytorch Implementation MLP\n",
        "5. Pytorch Simple Self-Attention implementation"
      ],
      "metadata": {
        "id": "JuOtLH0Mh_Sz"
      }
    },
    {
      "cell_type": "markdown",
      "source": [
        "### 1. PyTorch vs TensorFlow"
      ],
      "metadata": {
        "id": "os8P9_mhiKLz"
      }
    },
    {
      "cell_type": "markdown",
      "source": [
        "<img src=\"https://www.dropbox.com/s/oq0940vz6srofhf/Comparison-between-a-a-static-computation-graph-in-TensorFlow-115-and-b-an.png?raw=1\" width=800>"
      ],
      "metadata": {
        "id": "dvQSARHYiQEN"
      }
    },
    {
      "cell_type": "markdown",
      "source": [
        "## 2. Dynamic Computational Graph"
      ],
      "metadata": {
        "id": "MFsXo-fHidMf"
      }
    },
    {
      "cell_type": "markdown",
      "source": [
        "<img src=\"https://miro.medium.com/max/1400/1*5PLIVNA5fIqEC8-kZ260KQ.gif\" width=800>"
      ],
      "metadata": {
        "id": "a3IerlpJifJZ"
      }
    },
    {
      "cell_type": "markdown",
      "source": [
        "#### Computational Graph Example"
      ],
      "metadata": {
        "id": "WU--aakiixAG"
      }
    },
    {
      "cell_type": "markdown",
      "source": [
        "<img src=\"https://www.dropbox.com/s/ehw663j0uj68a92/024.png?raw=1\" width=800>"
      ],
      "metadata": {
        "id": "q9fhEyAii2-P"
      }
    },
    {
      "cell_type": "markdown",
      "source": [
        "#### Coding Time"
      ],
      "metadata": {
        "id": "mMKcVBzhjDtV"
      }
    },
    {
      "cell_type": "markdown",
      "source": [
        "#### Multiply Layer"
      ],
      "metadata": {
        "id": "lsC_6QZ_jH2A"
      }
    },
    {
      "cell_type": "markdown",
      "source": [
        "<img src=\"https://www.dropbox.com/s/cbdvkojahfjxlsn/023.png?raw=1\" width=600>"
      ],
      "metadata": {
        "id": "HNShJr7pjLzZ"
      }
    },
    {
      "cell_type": "code",
      "source": [
        "class MulLayer:\n",
        "    def __init__(self):\n",
        "        self.x = None\n",
        "        self.y = None\n",
        "\n",
        "    def forward(self, x, y):\n",
        "        # TODO\n",
        "        return out\n",
        "\n",
        "    def backward(self, dout):\n",
        "        # TODO\n",
        "        return dx, dy"
      ],
      "metadata": {
        "id": "cEtf3m26jLSp"
      },
      "execution_count": null,
      "outputs": []
    },
    {
      "cell_type": "markdown",
      "source": [
        "#### Add Layer"
      ],
      "metadata": {
        "id": "0Jb6Kl9tjUYy"
      }
    },
    {
      "cell_type": "markdown",
      "source": [
        "<img src=\"https://www.dropbox.com/s/vioxvohnadt0pl7/022.png?raw=1\"  width=600>"
      ],
      "metadata": {
        "id": "LtiuIC6sjWr-"
      }
    },
    {
      "cell_type": "code",
      "source": [
        "class AddLayer:\n",
        "    def __init__(self):\n",
        "        pass\n",
        "\n",
        "    def forward(self, x, y):\n",
        "        # TODO\n",
        "        return out\n",
        "\n",
        "    def backward(self, dout):\n",
        "        # TODO\n",
        "        return dx, dy"
      ],
      "metadata": {
        "id": "GyiLJMfdjXG2"
      },
      "execution_count": null,
      "outputs": []
    },
    {
      "cell_type": "code",
      "source": [
        "# params\n",
        "apple = 100\n",
        "apple_num = 2\n",
        "orange = 150\n",
        "orange_num = 3\n",
        "tax = 1.1\n",
        "\n",
        "# layer\n",
        "mul_apple_layer = MulLayer()\n",
        "mul_orange_layer = MulLayer()\n",
        "add_apple_orange_layer = AddLayer()\n",
        "mul_tax_layer = MulLayer()"
      ],
      "metadata": {
        "id": "o6d0ILghjZJM"
      },
      "execution_count": null,
      "outputs": []
    },
    {
      "cell_type": "code",
      "source": [
        "# forward\n",
        "apple_price = mul_apple_layer.forward(apple, apple_num)  # (1)\n",
        "orange_price = mul_orange_layer.forward(orange, orange_num)  # (2)\n",
        "all_price = add_apple_orange_layer.forward(apple_price, orange_price)  # (3)\n",
        "total = mul_tax_layer.forward(all_price, tax)  # (4)"
      ],
      "metadata": {
        "id": "IALDMclFjwVN"
      },
      "execution_count": null,
      "outputs": []
    },
    {
      "cell_type": "code",
      "source": [
        "total"
      ],
      "metadata": {
        "id": "xhwa5Bhdjyn3"
      },
      "execution_count": null,
      "outputs": []
    },
    {
      "cell_type": "code",
      "source": [
        "total_grad = 1 #grad\n",
        "# backward\n",
        "all_price_grad, tax_grad            = mul_tax_layer.backward(total_grad)  # (4)\n",
        "apple_price_grad, orange_price_grad = add_apple_orange_layer.backward(all_price_grad)  # (3)\n",
        "orange_grad, orange_num_grad        = mul_orange_layer.backward(orange_price_grad)  # (2)\n",
        "apple_grad, apple_num_grad          = mul_apple_layer.backward(apple_price_grad)  # (1)"
      ],
      "metadata": {
        "id": "78biSmQYj5zK"
      },
      "execution_count": null,
      "outputs": []
    },
    {
      "cell_type": "code",
      "source": [
        "print(\"price:\", int(total))\n",
        "print(\"dApple:\", apple_grad)\n",
        "print(\"dApple_num:\", int(apple_num_grad))\n",
        "print(\"dOrange:\", orange_grad)\n",
        "print(\"dOrange_num:\", int(orange_num_grad))\n",
        "print(\"dTax:\", tax_grad)"
      ],
      "metadata": {
        "id": "1rHTBTOEj7IT"
      },
      "execution_count": null,
      "outputs": []
    },
    {
      "cell_type": "markdown",
      "source": [
        "Final result: <img src=\"https://www.dropbox.com/s/cu0ywj7abepyjaf/025.png?raw=1\" width=0>"
      ],
      "metadata": {
        "id": "3CZzQDE9ks2f"
      }
    },
    {
      "cell_type": "markdown",
      "source": [
        "Parameter Update: \n",
        "    \n",
        "<img src=\"https://hmkcode.com/images/ai/bp_update_formula.png\" width=600>"
      ],
      "metadata": {
        "id": "DqCy1nSdlT6X"
      }
    },
    {
      "cell_type": "code",
      "source": [
        "l_rate       = 0.1\n",
        "apple        = apple - l_rate * apple_grad\n",
        "apple_num    = apple_num - l_rate * apple_num_grad\n",
        "orange       = orange - l_rate * orange_grad\n",
        "orange_num   = orange_num - l_rate * orange_grad\n",
        "tax          = tax - l_rate * tax_grad\n",
        "\n",
        "print(\"Apple:\", apple)\n",
        "print(\"Apple_num:\", apple_num)\n",
        "print(\"Orange:\", orange)\n",
        "print(\"Orange_num:\", orange_num)\n",
        "print(\"Tax:\", tax)"
      ],
      "metadata": {
        "id": "vJSYfGG1lSgn"
      },
      "execution_count": null,
      "outputs": []
    },
    {
      "cell_type": "markdown",
      "source": [
        "## 3. PyTorch: Tensors and Autograd"
      ],
      "metadata": {
        "id": "EnJzq1WLl0W3"
      }
    },
    {
      "cell_type": "code",
      "source": [
        "import torch\n",
        "from torch import nn\n",
        "import numpy as np"
      ],
      "metadata": {
        "id": "KjZqt1LBl5Y0"
      },
      "execution_count": null,
      "outputs": []
    },
    {
      "cell_type": "code",
      "source": [
        ""
      ],
      "metadata": {
        "id": "iBlGNBqnl6Tu"
      },
      "execution_count": null,
      "outputs": []
    },
    {
      "cell_type": "markdown",
      "source": [
        "https://pytorch.org/docs/stable/tensors.html"
      ],
      "metadata": {
        "id": "XtTymMuImgA0"
      }
    },
    {
      "cell_type": "code",
      "source": [
        "torch.zeros([2, 4], dtype=torch.int32)\n",
        "device = torch.device('cpu')\n",
        "torch.ones([2, 4], dtype=torch.float64, device=device)"
      ],
      "metadata": {
        "id": "7t_8xlM-mpqy"
      },
      "execution_count": null,
      "outputs": []
    },
    {
      "cell_type": "code",
      "source": [
        "np_array = np.array([[1,1,1], [2,2,2], [3,3,3]])\n",
        "tensor = torch.from_numpy(np_array)"
      ],
      "metadata": {
        "id": "AkDOtkCjmCis"
      },
      "execution_count": null,
      "outputs": []
    },
    {
      "cell_type": "code",
      "source": [
        "tensor"
      ],
      "metadata": {
        "id": "rWZpAgxApnTf"
      },
      "execution_count": null,
      "outputs": []
    },
    {
      "cell_type": "markdown",
      "source": [
        "##### Dot Product"
      ],
      "metadata": {
        "id": "fMTI8ZCeoMGr"
      }
    },
    {
      "cell_type": "code",
      "source": [
        "# This computes the element-wise product\n",
        "print(f\"tensor.mul(tensor) \\n {tensor.mul(tensor)} \\n\")\n",
        "# Alternative syntax:\n",
        "print(f\"tensor * tensor \\n {tensor * tensor}\")"
      ],
      "metadata": {
        "id": "FeSfpw6Jnh5n"
      },
      "execution_count": null,
      "outputs": []
    },
    {
      "cell_type": "markdown",
      "source": [
        "####  matrix multiplication"
      ],
      "metadata": {
        "id": "VmMupNCZoUaW"
      }
    },
    {
      "cell_type": "code",
      "source": [
        "print(f\"tensor.matmul(tensor.T) \\n {tensor.matmul(tensor)} \\n\")\n",
        "# Alternative syntax:\n",
        "print(f\"tensor @ tensor.T \\n {tensor @ tensor}\")"
      ],
      "metadata": {
        "id": "y7vHKhxYnvip"
      },
      "execution_count": null,
      "outputs": []
    },
    {
      "cell_type": "markdown",
      "source": [
        "<img src=\"https://www.dropbox.com/s/ehw663j0uj68a92/024.png?raw=1\" width=800>"
      ],
      "metadata": {
        "id": "J5ds248Mq5aI"
      }
    },
    {
      "cell_type": "code",
      "source": [
        "apple = torch.tensor(100.0, requires_grad=True)\n",
        "apple_num = torch.tensor(2.0, requires_grad=True)\n",
        "orange = torch.tensor(150.0, requires_grad=True)\n",
        "orange_num = torch.tensor(3.0, requires_grad=True)\n",
        "tax = torch.tensor(1.1, requires_grad=True)"
      ],
      "metadata": {
        "id": "TSBde2eBn1y-"
      },
      "execution_count": null,
      "outputs": []
    },
    {
      "cell_type": "code",
      "source": [
        "z_out = (apple * apple_num + orange * orange_num) * tax"
      ],
      "metadata": {
        "id": "t580w1L1qxaB"
      },
      "execution_count": null,
      "outputs": []
    },
    {
      "cell_type": "code",
      "source": [
        "print(z_out)"
      ],
      "metadata": {
        "id": "3BSKjjC1q_KX"
      },
      "execution_count": null,
      "outputs": []
    },
    {
      "cell_type": "code",
      "source": [
        "z_out.backward()"
      ],
      "metadata": {
        "id": "7zG6vhw9rBd_"
      },
      "execution_count": null,
      "outputs": []
    },
    {
      "cell_type": "code",
      "source": [
        "print(\"dApple:\", apple.grad)\n",
        "print(\"dApple_num:\", apple_num.grad)\n",
        "print(\"dOrange:\", orange.grad)\n",
        "print(\"dOrange_num:\", orange_num.grad)\n",
        "print(\"dTax:\", tax.grad)"
      ],
      "metadata": {
        "id": "OLIkLhf-rFQS"
      },
      "execution_count": null,
      "outputs": []
    },
    {
      "cell_type": "code",
      "source": [
        "print(\"dApple:\", apple_grad)\n",
        "print(\"dApple_num:\", int(apple_num_grad))\n",
        "print(\"dOrange:\", orange_grad)\n",
        "print(\"dOrange_num:\", int(orange_num_grad))\n",
        "print(\"dTax:\", tax_grad)"
      ],
      "metadata": {
        "id": "QelxgKazrICl"
      },
      "execution_count": null,
      "outputs": []
    },
    {
      "cell_type": "code",
      "source": [
        "apple = torch.tensor(100.0, requires_grad=True)\n",
        "apple_num = torch.tensor(2.0, requires_grad=True)\n",
        "orange = torch.tensor(150.0, requires_grad=True)\n",
        "orange_num = torch.tensor(3.0, requires_grad=True)\n",
        "tax = torch.tensor(1.1, requires_grad=True)"
      ],
      "metadata": {
        "id": "mbCsuWDrrmhz"
      },
      "execution_count": null,
      "outputs": []
    },
    {
      "cell_type": "code",
      "source": [
        "learning_rate = 1e-6"
      ],
      "metadata": {
        "id": "5V1nTuxrrMi4"
      },
      "execution_count": null,
      "outputs": []
    },
    {
      "cell_type": "code",
      "source": [
        "z = torch.tensor(600.0)"
      ],
      "metadata": {
        "id": "uoL7_wMdrWP2"
      },
      "execution_count": null,
      "outputs": []
    },
    {
      "cell_type": "code",
      "source": [
        "for t in range(5):\n",
        "    z_pred = (apple * apple_num + orange * orange_num) * tax\n",
        "    loss = (z_pred - z).pow(2)\n",
        "    # loss = z_pred - z \n",
        "    print(t, loss)\n",
        "     \n",
        "    loss.backward()\n",
        "    \n",
        "    # Disabling Gradient Tracking\n",
        "    with torch.no_grad():\n",
        "        apple      -= learning_rate * apple.grad\n",
        "        apple_num  -= learning_rate * apple_num.grad\n",
        "        orange     -= learning_rate * orange.grad\n",
        "        orange_num -= learning_rate * orange_num.grad\n",
        "        tax        -= learning_rate * tax.grad\n",
        "        \n",
        "        apple.grad      = None\n",
        "        apple_num.grad  = None\n",
        "        orange.grad     = None\n",
        "        orange_num.grad = None\n",
        "        tax.grad        = None\n",
        "        \n",
        "    print(f'Result: {z_pred} = ({apple} x {apple_num} + {orange} x {orange_num}) * {tax}')"
      ],
      "metadata": {
        "id": "08AcTSN9rXhp"
      },
      "execution_count": null,
      "outputs": []
    },
    {
      "cell_type": "code",
      "source": [
        "apple = torch.tensor(100.0, requires_grad=True)\n",
        "apple_num = torch.tensor(2.0, requires_grad=False)\n",
        "orange = torch.tensor(150.0, requires_grad=True)\n",
        "orange_num = torch.tensor(3.0, requires_grad=False)\n",
        "tax = torch.tensor(1.1, requires_grad=True)"
      ],
      "metadata": {
        "id": "A7RISXMkrbTS"
      },
      "execution_count": null,
      "outputs": []
    },
    {
      "cell_type": "code",
      "source": [
        "z = torch.tensor(600.0)"
      ],
      "metadata": {
        "id": "xopftUIrsv5n"
      },
      "execution_count": null,
      "outputs": []
    },
    {
      "cell_type": "code",
      "source": [
        "for t in range(10):\n",
        "    z_pred = (apple * apple_num + orange * orange_num) * tax\n",
        "    loss = (z_pred - z).pow(2)\n",
        "    print(t, loss)\n",
        "     \n",
        "    loss.backward()\n",
        "    \n",
        "    # Disabling Gradient Tracking\n",
        "    with torch.no_grad():\n",
        "        apple  -= learning_rate * apple.grad\n",
        "        orange -= learning_rate * orange.grad\n",
        "        tax    -= learning_rate * tax.grad\n",
        "        \n",
        "        apple.grad  = None\n",
        "        orange.grad = None\n",
        "        tax.grad    = None\n",
        "        \n",
        "    print(f'Result: {z_pred} = ({apple} x {apple_num} + {orange} x {orange_num}) * {tax}')"
      ],
      "metadata": {
        "id": "2aumGxUGswsg"
      },
      "execution_count": null,
      "outputs": []
    },
    {
      "cell_type": "markdown",
      "source": [
        "## 4. Build Model: Pytorch Implementation MLP"
      ],
      "metadata": {
        "id": "v2sdid3Nt-DL"
      }
    },
    {
      "cell_type": "markdown",
      "source": [
        "<img src=\"https://raw.githubusercontent.com/bentrevett/pytorch-image-classification/master/assets/mlp-mnist.png\" width=600>"
      ],
      "metadata": {
        "id": "97tu0s4PuBN-"
      }
    },
    {
      "cell_type": "code",
      "source": [
        "import torch\n",
        "import torch.nn as nn\n",
        "from torch.utils.data import DataLoader, SubsetRandomSampler\n",
        "from torchvision import datasets\n",
        "from torchvision.transforms import ToTensor\n",
        "import torch.nn.functional as F\n",
        "import numpy as np\n",
        "import matplotlib.pyplot as plt"
      ],
      "metadata": {
        "id": "0mhSqNdlt_98"
      },
      "execution_count": null,
      "outputs": []
    },
    {
      "cell_type": "code",
      "source": [
        "# Device configuration\n",
        "device = torch.device('cuda' if torch.cuda.is_available() else 'cpu')\n",
        "device"
      ],
      "metadata": {
        "id": "Ak6px_0suELZ"
      },
      "execution_count": null,
      "outputs": []
    },
    {
      "cell_type": "code",
      "source": [
        "training_data = datasets.MNIST(\n",
        "    root = 'data',\n",
        "    train = True,                         \n",
        "    transform = ToTensor(), \n",
        "    download = True,            \n",
        ")\n",
        "validation_data = datasets.MNIST(\n",
        "    root = 'data', \n",
        "    train = False, \n",
        "    transform = ToTensor()\n",
        ")"
      ],
      "metadata": {
        "id": "9MplPp5LuFAS"
      },
      "execution_count": null,
      "outputs": []
    },
    {
      "cell_type": "code",
      "source": [
        "print(training_data)\n",
        "print(validation_data)\n",
        "print(training_data.data.size())"
      ],
      "metadata": {
        "id": "FAyN_N8nuGJL"
      },
      "execution_count": null,
      "outputs": []
    },
    {
      "cell_type": "code",
      "source": [
        "\n",
        "plt.imshow(training_data.data[1], cmap='gray')\n",
        "plt.title('%i' % training_data.targets[1])\n",
        "plt.show()\n",
        "torch.set_printoptions(linewidth=200)\n",
        "training_data.data[1]"
      ],
      "metadata": {
        "id": "X-ShPy5SuHZD"
      },
      "execution_count": null,
      "outputs": []
    },
    {
      "cell_type": "code",
      "source": [
        "figure = plt.figure(figsize=(10, 8))\n",
        "for i in range(1, 26):\n",
        "    img, label = training_data[i]\n",
        "    figure.add_subplot(5, 5, i)\n",
        "    plt.title(label)\n",
        "    plt.imshow(img.squeeze(), cmap=\"gray\")\n",
        "plt.show()"
      ],
      "metadata": {
        "id": "yxLwcjjXuItv"
      },
      "execution_count": null,
      "outputs": []
    },
    {
      "cell_type": "code",
      "source": [
        "idxs = list(range(1000))\n",
        "batch_size = 50 \n",
        "training_data_loader = torch.utils.data.DataLoader(training_data, \n",
        "                                          batch_size=batch_size, \n",
        "                                          num_workers=1, \n",
        "                                          sampler=SubsetRandomSampler(idxs)\n",
        "                                          )\n",
        "\n",
        "val_idxs = list(range(1000))\n",
        "validation_data_loader = torch.utils.data.DataLoader(validation_data, \n",
        "                                          batch_size=batch_size, \n",
        "                                          num_workers=1,\n",
        "                                          sampler=SubsetRandomSampler(idxs))"
      ],
      "metadata": {
        "id": "QPUwEs2fuKLz"
      },
      "execution_count": null,
      "outputs": []
    },
    {
      "cell_type": "code",
      "source": [
        "class MLP(nn.Module):\n",
        "    def __init__(self):\n",
        "        super().__init__()\n",
        "        self.linear1 = nn.Linear(28*28, 250)\n",
        "        self.linear2 = nn.Linear(250, 100)\n",
        "        self.linear3 = nn.Linear(100, 10)\n",
        "\n",
        "    def forward(self, x):\n",
        "        x = self.linear1(x)\n",
        "        x = F.relu(x)\n",
        "        x = self.linear2(x)\n",
        "        x = F.relu(x)\n",
        "        x = self.linear3(x)\n",
        "        return x"
      ],
      "metadata": {
        "id": "RlbEGHkfuMEf"
      },
      "execution_count": null,
      "outputs": []
    },
    {
      "cell_type": "code",
      "source": [
        "model = MLP()\n",
        "model"
      ],
      "metadata": {
        "id": "bWgKalLruVeV"
      },
      "execution_count": null,
      "outputs": []
    },
    {
      "cell_type": "code",
      "source": [
        "optimizer = torch.optim.SGD(model.parameters(), lr = 0.01)"
      ],
      "metadata": {
        "id": "T4S8OASluNn7"
      },
      "execution_count": null,
      "outputs": []
    },
    {
      "cell_type": "code",
      "source": [
        "epoch = 100\n",
        "losses = list()\n",
        "val_losses = list()\n",
        "\n",
        "epoch_loss_history = list()\n",
        "epoch_acc_history = list()\n",
        "\n",
        "epoch_val_loss_history = list()\n",
        "epoch_val_acc_history = list()\n",
        "\n",
        "CEL = nn.CrossEntropyLoss()\n",
        "\n",
        "\n",
        "for i in range(epoch):\n",
        "    training_corrects = 0.0 \n",
        "    training_loss = 0.0 \n",
        "\n",
        "    val_corrects = 0.0 \n",
        "    val_loss = 0.0 \n",
        "\n",
        "    # Training\n",
        "    for X, y in training_data_loader:\n",
        "        X = X.view(X.shape[0], -1)\n",
        "        # forward\n",
        "        y_pred = model.forward(X)\n",
        "\n",
        "        # loss calculation\n",
        "        S = CEL(y_pred, y)\n",
        "\n",
        "        # initialize gradient \n",
        "        optimizer.zero_grad()\n",
        "\n",
        "        # backward\n",
        "        S.backward()\n",
        "        optimizer.step()\n",
        "\n",
        "        losses.append(S.item())\n",
        "        max_vals, max_idxs = torch.max(y_pred, 1)\n",
        "        training_corrects += torch.sum(max_idxs == y.data)\n",
        "        training_loss += S.item()\n",
        "\n",
        "    epoch_loss = training_loss / len(training_data_loader)\n",
        "    epoch_acc = 100.0 * training_corrects / ( len(training_data_loader) * batch_size )\n",
        "\n",
        "    epoch_loss_history.append(epoch_loss)\n",
        "    epoch_acc_history.append(epoch_acc)\n",
        "    \n",
        "    if i % 10 == 0:\n",
        "        print(\"Epoch: \", i+1)\n",
        "        print(\"Training loss: {:.4f}, Training acc: {:.4f}\". format(epoch_loss, epoch_acc))"
      ],
      "metadata": {
        "id": "D3qy99oyuTLP"
      },
      "execution_count": null,
      "outputs": []
    },
    {
      "cell_type": "markdown",
      "source": [
        "## 5. Pytorch Simple Self-Attention implementation"
      ],
      "metadata": {
        "id": "QCoNX0Aau7Kc"
      }
    },
    {
      "cell_type": "markdown",
      "source": [
        "<img src=\"https://miro.medium.com/max/1400/1*dSwckeG028obZPWafgJrmw.png\" width=800>"
      ],
      "metadata": {
        "id": "qcbWYNVKwsh0"
      }
    },
    {
      "cell_type": "markdown",
      "source": [
        "Steps:\n",
        "- Prepare inputs\n",
        "- Initialise weights\n",
        "- Derive key, query and value\n",
        "- Calculate attention scores\n",
        "- Calculate softmax\n",
        "- Attention Output"
      ],
      "metadata": {
        "id": "SCOG_PcZxMQ3"
      }
    },
    {
      "cell_type": "markdown",
      "source": [
        "\n",
        "<img src=https://miro.medium.com/max/1973/1*hmvdDXrxhJsGhOQClQdkBA.png width=800>\n",
        "\n",
        "\n"
      ],
      "metadata": {
        "id": "BRWPVwUdvDoW"
      }
    },
    {
      "cell_type": "code",
      "source": [
        "#### Prepare inputs"
      ],
      "metadata": {
        "id": "LeSwHL0euXWW"
      },
      "execution_count": null,
      "outputs": []
    },
    {
      "cell_type": "code",
      "source": [
        "x = [\n",
        "  [1, 0, 1, 0], # Input 1\n",
        "  [0, 2, 0, 2], # Input 2\n",
        "  [1, 1, 1, 1]  # Input 3\n",
        " ]\n",
        "x = torch.tensor(x, dtype=torch.float32)\n",
        "x"
      ],
      "metadata": {
        "id": "IQMxM4lkvL5c"
      },
      "execution_count": null,
      "outputs": []
    },
    {
      "cell_type": "code",
      "source": [
        "w_key = [\n",
        "  [0, 0, 1],\n",
        "  [1, 1, 0],\n",
        "  [0, 1, 0],\n",
        "  [1, 1, 0]\n",
        "]\n",
        "w_query = [\n",
        "  [1, 0, 1],\n",
        "  [1, 0, 0],\n",
        "  [0, 0, 1],\n",
        "  [0, 1, 1]\n",
        "]\n",
        "w_value = [\n",
        "  [0, 2, 0],\n",
        "  [0, 3, 0],\n",
        "  [1, 0, 3],\n",
        "  [1, 1, 0]\n",
        "]\n",
        "w_key = torch.tensor(w_key, dtype=torch.float32)\n",
        "w_query = torch.tensor(w_query, dtype=torch.float32)\n",
        "w_value = torch.tensor(w_value, dtype=torch.float32)\n",
        "\n",
        "print(\"Weights for key: \\n\", w_key)\n",
        "print(\"Weights for query: \\n\", w_query)\n",
        "print(\"Weights for value: \\n\", w_value)"
      ],
      "metadata": {
        "id": "02ZSii1hvM1n"
      },
      "execution_count": null,
      "outputs": []
    },
    {
      "cell_type": "markdown",
      "source": [
        "#### Derive key, query and value"
      ],
      "metadata": {
        "id": "KJkU1aE3vSsd"
      }
    },
    {
      "cell_type": "markdown",
      "source": [
        "<img src=\"https://miro.medium.com/max/1975/1*wO_UqfkWkv3WmGQVHvrMJw.gif\" width=800>"
      ],
      "metadata": {
        "id": "y6tcCchHvWim"
      }
    },
    {
      "cell_type": "code",
      "source": [
        "keys = x @ w_key\n",
        "querys = x @ w_query\n",
        "values = x @ w_value"
      ],
      "metadata": {
        "id": "9BJESKr2vZuW"
      },
      "execution_count": null,
      "outputs": []
    },
    {
      "cell_type": "code",
      "source": [
        "attn_scores = querys @ keys.T\n",
        "print(attn_scores)"
      ],
      "metadata": {
        "id": "3NMoZ6cIvdJp"
      },
      "execution_count": null,
      "outputs": []
    },
    {
      "cell_type": "markdown",
      "source": [
        "#### Calculate softmax"
      ],
      "metadata": {
        "id": "h514pbw7v9cU"
      }
    },
    {
      "cell_type": "markdown",
      "source": [
        "<img src=\"https://miro.medium.com/max/1973/1*jf__2D8RNCzefwS0TP1Kyg.gif\" width=800>\n",
        "\n",
        "Take the **softmax** across these **attention scores** (blue).\n",
        "```\n",
        "softmax([2, 4, 4]) = [0.0, 0.5, 0.5]\n",
        "```"
      ],
      "metadata": {
        "id": "62AdX3RxwAsh"
      }
    },
    {
      "cell_type": "code",
      "source": [
        "from torch.nn.functional import softmax\n",
        "\n",
        "attn_scores_softmax = softmax(attn_scores, dim=-1)\n",
        "print(attn_scores_softmax)\n",
        "\n",
        "\n",
        "# For readability,\n",
        "attn_scores_softmax = [\n",
        "  [0.0, 0.5, 0.5],\n",
        "  [0.0, 1.0, 0.0],\n",
        "  [0.0, 0.9, 0.1]\n",
        "]\n",
        "attn_scores_softmax = torch.tensor(attn_scores_softmax)\n",
        "print(attn_scores_softmax)"
      ],
      "metadata": {
        "id": "Sb4k8nphvfHq"
      },
      "execution_count": null,
      "outputs": []
    },
    {
      "cell_type": "markdown",
      "source": [
        "#### Attention Output"
      ],
      "metadata": {
        "id": "e3gyo7Pow_Mb"
      }
    },
    {
      "cell_type": "markdown",
      "source": [
        "<img src=\"https://miro.medium.com/max/1973/1*G8thyDVqeD8WHim_QzjvFg.gif\" width=800>"
      ],
      "metadata": {
        "id": "o1J7CgQSwOVm"
      }
    },
    {
      "cell_type": "code",
      "source": [
        "attn_scores_softmax @ values"
      ],
      "metadata": {
        "id": "2BgoP33avhXB"
      },
      "execution_count": null,
      "outputs": []
    }
  ]
}